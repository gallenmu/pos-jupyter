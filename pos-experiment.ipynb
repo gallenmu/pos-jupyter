{
 "cells": [
  {
   "cell_type": "markdown",
   "id": "a829b7e7",
   "metadata": {},
   "source": [
    "# A pos Experiment in a Jupyter-Notebook"
   ]
  },
  {
   "cell_type": "code",
   "execution_count": 1,
   "id": "cf160f29",
   "metadata": {
    "scrolled": true
   },
   "outputs": [
    {
     "name": "stdout",
     "output_type": "stream",
     "text": [
      "Requirement already satisfied: ipylivebash in /home/gallenmu/pos/jupyter/venv3/lib/python3.7/site-packages (0.1.2)\n",
      "Requirement already satisfied: ipywidgets>=7.0.0 in /home/gallenmu/pos/jupyter/venv3/lib/python3.7/site-packages (from ipylivebash) (8.0.2)\n",
      "Requirement already satisfied: widgetsnbextension~=4.0 in /home/gallenmu/pos/jupyter/venv3/lib/python3.7/site-packages (from ipywidgets>=7.0.0->ipylivebash) (4.0.3)\n",
      "Requirement already satisfied: traitlets>=4.3.1 in /home/gallenmu/pos/jupyter/venv3/lib/python3.7/site-packages (from ipywidgets>=7.0.0->ipylivebash) (5.5.0)\n",
      "Requirement already satisfied: ipython>=6.1.0 in /home/gallenmu/pos/jupyter/venv3/lib/python3.7/site-packages (from ipywidgets>=7.0.0->ipylivebash) (7.34.0)\n",
      "Requirement already satisfied: ipykernel>=4.5.1 in /home/gallenmu/pos/jupyter/venv3/lib/python3.7/site-packages (from ipywidgets>=7.0.0->ipylivebash) (6.16.1)\n",
      "Requirement already satisfied: jupyterlab-widgets~=3.0 in /home/gallenmu/pos/jupyter/venv3/lib/python3.7/site-packages (from ipywidgets>=7.0.0->ipylivebash) (3.0.3)\n",
      "Requirement already satisfied: setuptools>=18.5 in /home/gallenmu/pos/jupyter/venv3/lib/python3.7/site-packages (from ipython>=6.1.0->ipywidgets>=7.0.0->ipylivebash) (65.5.0)\n",
      "Requirement already satisfied: matplotlib-inline in /home/gallenmu/pos/jupyter/venv3/lib/python3.7/site-packages (from ipython>=6.1.0->ipywidgets>=7.0.0->ipylivebash) (0.1.6)\n",
      "Requirement already satisfied: jedi>=0.16 in /home/gallenmu/pos/jupyter/venv3/lib/python3.7/site-packages (from ipython>=6.1.0->ipywidgets>=7.0.0->ipylivebash) (0.18.1)\n",
      "Requirement already satisfied: backcall in /home/gallenmu/pos/jupyter/venv3/lib/python3.7/site-packages (from ipython>=6.1.0->ipywidgets>=7.0.0->ipylivebash) (0.2.0)\n",
      "Requirement already satisfied: pexpect>4.3; sys_platform != \"win32\" in /home/gallenmu/pos/jupyter/venv3/lib/python3.7/site-packages (from ipython>=6.1.0->ipywidgets>=7.0.0->ipylivebash) (4.8.0)\n",
      "Requirement already satisfied: pickleshare in /home/gallenmu/pos/jupyter/venv3/lib/python3.7/site-packages (from ipython>=6.1.0->ipywidgets>=7.0.0->ipylivebash) (0.7.5)\n",
      "Requirement already satisfied: pygments in /home/gallenmu/pos/jupyter/venv3/lib/python3.7/site-packages (from ipython>=6.1.0->ipywidgets>=7.0.0->ipylivebash) (2.13.0)\n",
      "Requirement already satisfied: prompt-toolkit!=3.0.0,!=3.0.1,<3.1.0,>=2.0.0 in /home/gallenmu/pos/jupyter/venv3/lib/python3.7/site-packages (from ipython>=6.1.0->ipywidgets>=7.0.0->ipylivebash) (3.0.31)\n",
      "Requirement already satisfied: decorator in /home/gallenmu/pos/jupyter/venv3/lib/python3.7/site-packages (from ipython>=6.1.0->ipywidgets>=7.0.0->ipylivebash) (5.1.1)\n",
      "Requirement already satisfied: debugpy>=1.0 in /home/gallenmu/pos/jupyter/venv3/lib/python3.7/site-packages (from ipykernel>=4.5.1->ipywidgets>=7.0.0->ipylivebash) (1.6.3)\n",
      "Requirement already satisfied: tornado>=6.1 in /home/gallenmu/pos/jupyter/venv3/lib/python3.7/site-packages (from ipykernel>=4.5.1->ipywidgets>=7.0.0->ipylivebash) (6.2)\n",
      "Requirement already satisfied: nest-asyncio in /home/gallenmu/pos/jupyter/venv3/lib/python3.7/site-packages (from ipykernel>=4.5.1->ipywidgets>=7.0.0->ipylivebash) (1.5.6)\n",
      "Requirement already satisfied: pyzmq>=17 in /home/gallenmu/pos/jupyter/venv3/lib/python3.7/site-packages (from ipykernel>=4.5.1->ipywidgets>=7.0.0->ipylivebash) (24.0.1)\n",
      "Requirement already satisfied: jupyter-client>=6.1.12 in /home/gallenmu/pos/jupyter/venv3/lib/python3.7/site-packages (from ipykernel>=4.5.1->ipywidgets>=7.0.0->ipylivebash) (7.4.3)\n",
      "Requirement already satisfied: psutil in /home/gallenmu/pos/jupyter/venv3/lib/python3.7/site-packages (from ipykernel>=4.5.1->ipywidgets>=7.0.0->ipylivebash) (5.9.3)\n",
      "Requirement already satisfied: packaging in /home/gallenmu/pos/jupyter/venv3/lib/python3.7/site-packages (from ipykernel>=4.5.1->ipywidgets>=7.0.0->ipylivebash) (21.3)\n",
      "Requirement already satisfied: parso<0.9.0,>=0.8.0 in /home/gallenmu/pos/jupyter/venv3/lib/python3.7/site-packages (from jedi>=0.16->ipython>=6.1.0->ipywidgets>=7.0.0->ipylivebash) (0.8.3)\n",
      "Requirement already satisfied: ptyprocess>=0.5 in /home/gallenmu/pos/jupyter/venv3/lib/python3.7/site-packages (from pexpect>4.3; sys_platform != \"win32\"->ipython>=6.1.0->ipywidgets>=7.0.0->ipylivebash) (0.7.0)\n",
      "Requirement already satisfied: wcwidth in /home/gallenmu/pos/jupyter/venv3/lib/python3.7/site-packages (from prompt-toolkit!=3.0.0,!=3.0.1,<3.1.0,>=2.0.0->ipython>=6.1.0->ipywidgets>=7.0.0->ipylivebash) (0.2.5)\n",
      "Requirement already satisfied: python-dateutil>=2.8.2 in /home/gallenmu/pos/jupyter/venv3/lib/python3.7/site-packages (from jupyter-client>=6.1.12->ipykernel>=4.5.1->ipywidgets>=7.0.0->ipylivebash) (2.8.2)\n",
      "Requirement already satisfied: entrypoints in /home/gallenmu/pos/jupyter/venv3/lib/python3.7/site-packages (from jupyter-client>=6.1.12->ipykernel>=4.5.1->ipywidgets>=7.0.0->ipylivebash) (0.4)\n",
      "Requirement already satisfied: jupyter-core>=4.9.2 in /home/gallenmu/pos/jupyter/venv3/lib/python3.7/site-packages (from jupyter-client>=6.1.12->ipykernel>=4.5.1->ipywidgets>=7.0.0->ipylivebash) (4.11.2)\n",
      "Requirement already satisfied: pyparsing!=3.0.5,>=2.0.2 in /home/gallenmu/pos/jupyter/venv3/lib/python3.7/site-packages (from packaging->ipykernel>=4.5.1->ipywidgets>=7.0.0->ipylivebash) (3.0.9)\n",
      "Requirement already satisfied: six>=1.5 in /home/gallenmu/pos/jupyter/venv3/lib/python3.7/site-packages (from python-dateutil>=2.8.2->jupyter-client>=6.1.12->ipykernel>=4.5.1->ipywidgets>=7.0.0->ipylivebash) (1.16.0)\n",
      "Requirement already satisfied: numpy in /home/gallenmu/pos/jupyter/venv3/lib/python3.7/site-packages (1.21.6)\n"
     ]
    }
   ],
   "source": [
    "# install dependencies (need to be run once)\n",
    "!pip install ipylivebash\n",
    "!pip install numpy"
   ]
  },
  {
   "cell_type": "code",
   "execution_count": 2,
   "id": "7e5eb97e",
   "metadata": {},
   "outputs": [],
   "source": [
    "# required to display live output of bash cells\n",
    "import ipylivebash"
   ]
  },
  {
   "cell_type": "markdown",
   "id": "0ea8ae96",
   "metadata": {},
   "source": [
    "## Variable Definitions"
   ]
  },
  {
   "cell_type": "markdown",
   "id": "03da41c9",
   "metadata": {},
   "source": [
    "The following cell specifies the global variables. These variables are shared across all experiment nodes participating in an experiment."
   ]
  },
  {
   "cell_type": "code",
   "execution_count": 3,
   "id": "21c30648",
   "metadata": {},
   "outputs": [
    {
     "name": "stdout",
     "output_type": "stream",
     "text": [
      "Overwriting ./global-variables.yml\n"
     ]
    }
   ],
   "source": [
    "%%writefile ./global-variables.yml\n",
    "\n",
    "repo:                                                                                                                   \n",
    "  moongen: 'https://github.com/emmericp/MoonGen'                                                                        \n",
    "  commit: '7746ff2f0afdbb222aa9cb220b48355e2d19552b'  "
   ]
  },
  {
   "cell_type": "markdown",
   "id": "902e4cd9",
   "metadata": {},
   "source": [
    "The following cells specify the local variables. These variables are exclusive for a specific experiment node. \n",
    "\n",
    "Typically, a seperate local variable file for each participating experiment node is created."
   ]
  },
  {
   "cell_type": "code",
   "execution_count": 4,
   "id": "8b028374",
   "metadata": {},
   "outputs": [
    {
     "name": "stdout",
     "output_type": "stream",
     "text": [
      "Overwriting ./loadgen-local-variables.yml\n"
     ]
    }
   ],
   "source": [
    "%%writefile ./loadgen-local-variables.yml\n",
    "\n",
    "interface:                                                                                                              \n",
    "  rx: '0'                                                                                                               \n",
    "  tx: '1' "
   ]
  },
  {
   "cell_type": "code",
   "execution_count": 5,
   "id": "d3eb84a2",
   "metadata": {},
   "outputs": [
    {
     "name": "stdout",
     "output_type": "stream",
     "text": [
      "Overwriting ./dut-local-variables.yml\n"
     ]
    }
   ],
   "source": [
    "%%writefile ./dut-local-variables.yml\n",
    "\n",
    "interface:                                                                                                              \n",
    "  rx: '0'                                                                                                               \n",
    "  tx: '1' "
   ]
  },
  {
   "cell_type": "markdown",
   "id": "976a93e7",
   "metadata": {},
   "source": [
    "The following cell specifies the loop variables. These variables parameterize the task that describes the actual experiment. A typical parameter to investigate in networked experiments would be different packet rates and packet sizes."
   ]
  },
  {
   "cell_type": "code",
   "execution_count": 6,
   "id": "fc48a3dd",
   "metadata": {},
   "outputs": [
    {
     "name": "stdout",
     "output_type": "stream",
     "text": [
      "Overwriting ./loop-variables.yml\n"
     ]
    }
   ],
   "source": [
    "%%writefile ./loop-variables.yml\n",
    "\n",
    "pkt_sizes: [64, 1500]                                                                                                                       \n",
    "rates: [1000, 2000, ..., 10000]  "
   ]
  },
  {
   "cell_type": "markdown",
   "id": "1f3324c3",
   "metadata": {},
   "source": [
    "## Setup Scripts"
   ]
  },
  {
   "cell_type": "markdown",
   "id": "3f8a92d0",
   "metadata": {},
   "source": [
    "The following cells specify the setup scripts. These scripts are used to configure the participating experiment nodes. \n",
    "\n",
    "Typically, a seperate setup file for each participating experiment node is created. Typical tasks to perform in this stage of the experiment is the installation of dependencies or the configuration of addresses."
   ]
  },
  {
   "cell_type": "code",
   "execution_count": 7,
   "id": "e6d70f65",
   "metadata": {},
   "outputs": [
    {
     "name": "stdout",
     "output_type": "stream",
     "text": [
      "Overwriting dut-setup.sh\n"
     ]
    }
   ],
   "source": [
    "%%writefile dut-setup.sh\n",
    "#!/bin/bash\n",
    "\n",
    "# get global variables                                                                                                  \n",
    "GIT_REPO=$(pos_get_variable -g repo/moongen)                                                                      \n",
    "COMMIT_ID=$(pos_get_variable -g repo/commit)                                                                      \n",
    "                                                                                                                        \n",
    "# clone repo and install MoonGen                                                                                        \n",
    "git clone --recursive $GIT_REPO /root/moongen                                                                           \n",
    "cd /root/moongen                                                                                                        \n",
    "git checkout $COMMIT_ID                                                                                                 \n",
    "./build.sh                                                                                                              \n",
    "./setup-hugetlbfs.sh"
   ]
  },
  {
   "cell_type": "code",
   "execution_count": 8,
   "id": "dfafdc40",
   "metadata": {},
   "outputs": [
    {
     "name": "stdout",
     "output_type": "stream",
     "text": [
      "Overwriting loadgen-setup.sh\n"
     ]
    }
   ],
   "source": [
    "%%writefile loadgen-setup.sh\n",
    "#!/bin/bash\n",
    "\n",
    "# get global variables                                                                                                  \n",
    "GIT_REPO=$(pos_get_variable -g repo/moongen)                                                                      \n",
    "COMMIT_ID=$(pos_get_variable -g repo/commit)                                                                      \n",
    "                                                                                                                        \n",
    "# clone repo and install MoonGen                                                                                        \n",
    "git clone --recursive $GIT_REPO /root/moongen                                                                           \n",
    "cd /root/moongen                                                                                                        \n",
    "git checkout $COMMIT_ID                                                                                                 \n",
    "./build.sh                                                                                                              \n",
    "./setup-hugetlbfs.sh"
   ]
  },
  {
   "cell_type": "markdown",
   "id": "2b4e531f",
   "metadata": {},
   "source": [
    "## Task Description Scripts"
   ]
  },
  {
   "cell_type": "markdown",
   "id": "a9f272f2",
   "metadata": {},
   "source": [
    "The following cells specify the actual tasks that perform the individual measurements of an experiment.\n",
    "\n",
    "Typically, a seperate task description script for each participating experiment node is created. "
   ]
  },
  {
   "cell_type": "code",
   "execution_count": 9,
   "id": "dc0c535f",
   "metadata": {},
   "outputs": [
    {
     "name": "stdout",
     "output_type": "stream",
     "text": [
      "Overwriting dut-task-description.sh\n"
     ]
    }
   ],
   "source": [
    "%%writefile dut-task-description.sh\n",
    "#!/bin/bash\n",
    "\n",
    "# get local variables                                                                                                  \n",
    "RX=$(pos_get_variable interface/rx)                                                                      \n",
    "TX=$(pos_get_variable interface/tx)\n",
    "\n",
    "# loop variables not used on DuT\n",
    "\n",
    "# synchronize between participating nodes\n",
    "pos_sync\n",
    "\n",
    "# run forwarder\n",
    "pos_run -l forward -- /root/moongen/build/MoonGen /root/moongen/libmoon/examples/l2-forward.lua $RX $TX\n",
    "\n",
    "# wait for 60s\n",
    "sleep 60\n",
    "\n",
    "# kill forwarder\n",
    "pos_kill -l forward\n",
    "sleep 5"
   ]
  },
  {
   "cell_type": "code",
   "execution_count": 10,
   "id": "848e6e53",
   "metadata": {},
   "outputs": [
    {
     "name": "stdout",
     "output_type": "stream",
     "text": [
      "Overwriting loadgen-task-description.sh\n"
     ]
    }
   ],
   "source": [
    "%%writefile loadgen-task-description.sh\n",
    "#!/bin/bash\n",
    "\n",
    "# get local variables                                                                                                  \n",
    "RX=$(pos_get_variable interface/rx)                                                                      \n",
    "TX=$(pos_get_variable interface/tx)\n",
    "\n",
    "# get loop variables\n",
    "PKT_SZ=$(pos_get_variable -l pkt_sizes)                                                                      \n",
    "RATE=$(pos_get_variable -l rates) \n",
    "\n",
    "# synchronize between participating nodes\n",
    "pos_sync\n",
    "\n",
    "# run load generator\n",
    "pos_run -l generate -- /root/moongen/build/MoonGen /root/moongen/examples/l3-load-latency.lua -r $RATE -s $PKT_SZ $TX $RX\n",
    "\n",
    "# wait for 60s\n",
    "sleep 60\n",
    "\n",
    "# kill load generator\n",
    "pos_kill -l generate\n",
    "\n",
    "sleep 1\n",
    "pos_upload -l histogram.csv"
   ]
  },
  {
   "cell_type": "markdown",
   "id": "46862175",
   "metadata": {},
   "source": [
    "## Experiment Script"
   ]
  },
  {
   "cell_type": "markdown",
   "id": "0cdb675c",
   "metadata": {},
   "source": [
    "The experiment script is the entry point of a pos experiment (similar to the main function of C-based languages). This script reflects the high-level description of the experiment.\n",
    "\n",
    "Typical steps in this main script involve:\n",
    "* Freeing of experiment nodes (if nodes were not freed during previous experiment)\n",
    "* Allocation of experiment nodes for an experiment\n",
    "* Setting the previously defined variables\n",
    "* Choosing an OS image and rebooting the experiment nodes\n",
    "* Launching setup scripts\n",
    "* Launching the task descriptions to perform the measurements\n",
    "* Freeing the hosts to make them available for other experiments"
   ]
  },
  {
   "cell_type": "code",
   "execution_count": 11,
   "id": "cc1a8013",
   "metadata": {},
   "outputs": [
    {
     "data": {
      "application/vnd.jupyter.widget-view+json": {
       "model_id": "f028d97074854c04843812a624108a5a",
       "version_major": 2,
       "version_minor": 0
      },
      "text/plain": [
       "GridBox(children=(VBox(children=(LogView(),)),), layout=Layout(grid_template_columns='100%', grid_template_row…"
      ]
     },
     "metadata": {},
     "output_type": "display_data"
    }
   ],
   "source": [
    "%%livebash\n",
    "\n",
    "set -x\n",
    "set -e\n",
    "\n",
    "DUT=\"dogecoincash\"\n",
    "LOADGEN=\"dogecoin\"\n",
    "\n",
    "# free experiment nodes\n",
    "pos allocations free $DUT\n",
    "pos allocations free $LOADGEN\n",
    "\n",
    "# allocate experiment nodes                                                                                             \n",
    "pos allocations allocate --duration 10 $DUT $LOADGEN | tee allocation.txt                                                                    \n",
    "                                                                                                                        \n",
    "# load variables                                                                                                        \n",
    "pos allocations set_variables $DUT --as-global ./global-variables.yml # global vars                                     \n",
    "pos allocations set_variables $DUT ./dut-local-variables.yml          # local vars \n",
    "pos allocations set_variables $LOADGEN ./loadgen-local-variables.yml  # local vars \n",
    "pos allocations set_variables $DUT --as-loop ./loop-variables.yml     # loop vars \n",
    "\n",
    "# configure & reboot nodes                                                                                              \n",
    "pos nodes image $DUT debian-buster                                                                                    \n",
    "pos nodes image $LOADGEN debian-buster                                                                                \n",
    "pos nodes reset $DUT --non-blocking                                                                                     \n",
    "pos nodes reset $LOADGEN --non-blocking                                                                                 \n",
    "                                                                                                                        \n",
    "# setup nodes                                                                                                           \n",
    "pos commands launch --infile dut-setup.sh --queued $DUT                                                               \n",
    "pos commands launch --infile loadgen-setup.sh --queued $LOADGEN                                                           \n",
    "                                                                                                                        \n",
    "# execute experiment on nodes                                                                                           \n",
    "pos commands launch --infile dut-task-description.sh --queued --loop $DUT                                                  \n",
    "pos commands launch --infile loadgen-task-description.sh --blocking --loop $LOADGEN                                            \n",
    "                                                                                                                        \n",
    "# free nodes                                                                                                            \n",
    "pos allocations free $DUT"
   ]
  },
  {
   "cell_type": "code",
   "execution_count": 29,
   "id": "a29d64b1",
   "metadata": {
    "scrolled": false
   },
   "outputs": [
    {
     "name": "stdout",
     "output_type": "stream",
     "text": [
      "/srv/testbed/results/gallenmu/default/2022-10-28_21-18-24_155466/dogecoin\n",
      "{'rates': [1000, 2000, 3000, 4000, 5000, 6000, 7000, 8000, 9000, 10000], 'pkt_sizes': [64, 1500]}\n",
      "\u001b[1;36m[Device: id=0] RX\u001b[0m: 1.84 (StdDev 0.00) Mpps, 1001 (StdDev 0) Mbit/s (1295 Mbit/s with framing), total 103565402 packets with 7043553312 bytes (incl. CRC)\n",
      "\n",
      "\u001b[1;36m[Device: id=0] RX\u001b[0m: 0.08 (StdDev 0.00) Mpps, 999 (StdDev 0) Mbit/s (1012 Mbit/s with framing), total 4674478 packets with 7030413472 bytes (incl. CRC)\n",
      "\n",
      "\u001b[1;36m[Device: id=0] RX\u001b[0m: 3.68 (StdDev 0.00) Mpps, 2001 (StdDev 0) Mbit/s (2589 Mbit/s with framing), total 206245259 packets with 14025779288 bytes (incl. CRC)\n",
      "\n",
      "\u001b[1;36m[Device: id=0] RX\u001b[0m: 0.17 (StdDev 0.00) Mpps, 1999 (StdDev 0) Mbit/s (2026 Mbit/s with framing), total 9354413 packets with 14069035712 bytes (incl. CRC)\n",
      "\n",
      "\u001b[1;36m[Device: id=0] RX\u001b[0m: 5.25 (StdDev 0.02) Mpps, 2856 (StdDev 10) Mbit/s (3695 Mbit/s with framing), total 277883881 packets with 18897141484 bytes (incl. CRC)\n",
      "\n",
      "\u001b[1;36m[Device: id=0] RX\u001b[0m: 0.25 (StdDev 0.00) Mpps, 2999 (StdDev 0) Mbit/s (3039 Mbit/s with framing), total 14036019 packets with 21110171136 bytes (incl. CRC)\n",
      "\n",
      "\u001b[1;36m[Device: id=0] RX\u001b[0m: 6.06 (StdDev 0.04) Mpps, 3296 (StdDev 23) Mbit/s (4265 Mbit/s with framing), total 337412663 packets with 22945150240 bytes (incl. CRC)\n",
      "\n",
      "\u001b[1;36m[Device: id=0] RX\u001b[0m: 0.33 (StdDev 0.00) Mpps, 3998 (StdDev 10) Mbit/s (4051 Mbit/s with framing), total 18277973 packets with 27490069952 bytes (incl. CRC)\n",
      "\n",
      "\u001b[1;36m[Device: id=0] RX\u001b[0m: 6.35 (StdDev 0.03) Mpps, 3456 (StdDev 19) Mbit/s (4472 Mbit/s with framing), total 359167726 packets with 24424507204 bytes (incl. CRC)\n",
      "\n",
      "\u001b[1;36m[Device: id=0] RX\u001b[0m: 0.42 (StdDev 0.00) Mpps, 5001 (StdDev 0) Mbit/s (5067 Mbit/s with framing), total 23390333 packets with 35179059392 bytes (incl. CRC)\n",
      "\n",
      "\u001b[1;36m[Device: id=0] RX\u001b[0m: 6.47 (StdDev 0.06) Mpps, 3522 (StdDev 35) Mbit/s (4558 Mbit/s with framing), total 368435200 packets with 25054697056 bytes (incl. CRC)\n",
      "\n",
      "\u001b[1;36m[Device: id=0] RX\u001b[0m: 0.50 (StdDev 0.00) Mpps, 6000 (StdDev 0) Mbit/s (6079 Mbit/s with framing), total 27716551 packets with 41685691264 bytes (incl. CRC)\n",
      "\n",
      "\u001b[1;36m[Device: id=0] RX\u001b[0m: 6.46 (StdDev 0.04) Mpps, 3515 (StdDev 20) Mbit/s (4549 Mbit/s with framing), total 335917767 packets with 22843407992 bytes (incl. CRC)\n",
      "\n",
      "\u001b[1;36m[Device: id=0] RX\u001b[0m: 0.58 (StdDev 0.00) Mpps, 7001 (StdDev 0) Mbit/s (7094 Mbit/s with framing), total 32761068 packets with 49272644832 bytes (incl. CRC)\n",
      "\n",
      "\u001b[1;36m[Device: id=0] RX\u001b[0m: 6.46 (StdDev 0.04) Mpps, 3512 (StdDev 22) Mbit/s (4545 Mbit/s with framing), total 370929035 packets with 25224279856 bytes (incl. CRC)\n",
      "\n",
      "\u001b[1;36m[Device: id=0] RX\u001b[0m: 0.66 (StdDev 0.00) Mpps, 8000 (StdDev 0) Mbit/s (8106 Mbit/s with framing), total 37439977 packets with 56309723968 bytes (incl. CRC)\n",
      "\n",
      "\u001b[1;36m[Device: id=0] RX\u001b[0m: 6.35 (StdDev 0.04) Mpps, 3454 (StdDev 23) Mbit/s (4470 Mbit/s with framing), total 364630118 packets with 24795953700 bytes (incl. CRC)\n",
      "\n",
      "\u001b[1;36m[Device: id=0] RX\u001b[0m: 0.75 (StdDev 0.00) Mpps, 9002 (StdDev 0) Mbit/s (9122 Mbit/s with framing), total 39558003 packets with 59495235072 bytes (incl. CRC)\n",
      "\n",
      "\u001b[1;36m[Device: id=0] RX\u001b[0m: 6.44 (StdDev 0.03) Mpps, 3504 (StdDev 16) Mbit/s (4535 Mbit/s with framing), total 369558836 packets with 25131106564 bytes (incl. CRC)\n",
      "\n",
      "\u001b[1;36m[Device: id=0] RX\u001b[0m: 0.82 (StdDev 0.00) Mpps, 9869 (StdDev 0) Mbit/s (10000 Mbit/s with framing), total 45583518 packets with 68557609632 bytes (incl. CRC)\n",
      "\n",
      "{0: {'rates': 1000, 'pkt_sizes': 64, 'tx_avg': 1.84, 'rx_avg': 1.84}, 1: {'rates': 1000, 'pkt_sizes': 1500, 'tx_avg': 0.08, 'rx_avg': 0.08}, 2: {'rates': 2000, 'pkt_sizes': 64, 'tx_avg': 3.68, 'rx_avg': 3.68}, 3: {'rates': 2000, 'pkt_sizes': 1500, 'tx_avg': 0.17, 'rx_avg': 0.17}, 4: {'rates': 3000, 'pkt_sizes': 64, 'tx_avg': 5.25, 'rx_avg': 5.25}, 5: {'rates': 3000, 'pkt_sizes': 1500, 'tx_avg': 0.25, 'rx_avg': 0.25}, 6: {'rates': 4000, 'pkt_sizes': 64, 'tx_avg': 6.06, 'rx_avg': 6.06}, 7: {'rates': 4000, 'pkt_sizes': 1500, 'tx_avg': 0.33, 'rx_avg': 0.33}, 8: {'rates': 5000, 'pkt_sizes': 64, 'tx_avg': 6.35, 'rx_avg': 6.35}, 9: {'rates': 5000, 'pkt_sizes': 1500, 'tx_avg': 0.42, 'rx_avg': 0.42}, 10: {'rates': 6000, 'pkt_sizes': 64, 'tx_avg': 6.47, 'rx_avg': 6.47}, 11: {'rates': 6000, 'pkt_sizes': 1500, 'tx_avg': 0.5, 'rx_avg': 0.5}, 12: {'rates': 7000, 'pkt_sizes': 64, 'tx_avg': 6.46, 'rx_avg': 6.46}, 13: {'rates': 7000, 'pkt_sizes': 1500, 'tx_avg': 0.58, 'rx_avg': 0.58}, 14: {'rates': 8000, 'pkt_sizes': 64, 'tx_avg': 6.45, 'rx_avg': 6.46}, 15: {'rates': 8000, 'pkt_sizes': 1500, 'tx_avg': 0.66, 'rx_avg': 0.66}, 16: {'rates': 9000, 'pkt_sizes': 64, 'tx_avg': 6.35, 'rx_avg': 6.35}, 17: {'rates': 9000, 'pkt_sizes': 1500, 'tx_avg': 0.75, 'rx_avg': 0.75}, 18: {'rates': 10000, 'pkt_sizes': 64, 'tx_avg': 6.44, 'rx_avg': 6.44}, 19: {'rates': 10000, 'pkt_sizes': 1500, 'tx_avg': 0.82, 'rx_avg': 0.82}}\n",
      "{'rates_1000': [1.84, 0.08], 'rates_2000': [3.68, 0.17], 'rates_3000': [5.25, 0.25], 'rates_4000': [6.06, 0.33], 'rates_5000': [6.35, 0.42], 'rates_6000': [6.47, 0.5], 'rates_7000': [6.46, 0.58], 'rates_8000': [6.45, 0.66], 'rates_9000': [6.35, 0.75], 'rates_10000': [6.44, 0.82], 'pkt_sizes_64': [1.84, 3.68, 5.25, 6.06, 6.35, 6.47, 6.46, 6.45, 6.35, 6.44], 'pkt_sizes_1500': [0.08, 0.17, 0.25, 0.33, 0.42, 0.5, 0.58, 0.66, 0.75, 0.82]}\n"
     ]
    }
   ],
   "source": [
    "import pathlib\n",
    "import json\n",
    "\n",
    "allocationpath = ''\n",
    "with open('allocation.txt') as afile:\n",
    "    allocationpath = afile.read().split(' ')[-1].replace('\\n', '') + '/dogecoin'\n",
    "\n",
    "print(allocationpath)\n",
    "    \n",
    "# extract loop information from files\n",
    "loop_vars = {}\n",
    "loop_files = {}\n",
    "for lfile in pathlib.Path(allocationpath).glob('*.loop'):\n",
    "    run_key = int(lfile.stem.split('_')[-1].replace('run', ''))\n",
    "    with open(lfile) as loopfile:\n",
    "        jobj = json.loads(loopfile.read())\n",
    "        loop_files[run_key] = jobj\n",
    "        for k, v in jobj.items():\n",
    "            if k in loop_vars.keys():\n",
    "                loop_vars[k].add(v)\n",
    "            else:\n",
    "                loop_vars[k] = {v}\n",
    "\n",
    "list_loop_vars = {}\n",
    "for k,v in loop_vars.items():\n",
    "    list_loop_vars[k] = sorted(list(v))\n",
    "                \n",
    "print(list_loop_vars)\n",
    "\n",
    "# extract the measured average tx and rx rates\n",
    "for outfile in pathlib.Path(allocationpath).glob('*generate*.stdout'):\n",
    "    run_key = int(outfile.stem.split('_')[-1].replace('run', ''))\n",
    "    with open(outfile) as stdoutfile:\n",
    "        for line in stdoutfile:\n",
    "            if \"total\" in line and 'RX' in line:\n",
    "                print(line)\n",
    "                loop_files[run_key]['rx_avg'] = float(line.split('Mpps')[0].split('(')[0].split(':')[-1])\n",
    "            if \"total\" in line and 'TX' in line:\n",
    "                loop_files[run_key]['tx_avg'] = float(line.split('Mpps')[0].split('(')[0].split(':')[-1])\n",
    "                \n",
    "print(loop_files)\n",
    "\n",
    "rx_output = {}\n",
    "tx_output = {}\n",
    "# aggregate over loop vars\n",
    "for k, v in list_loop_vars.items():\n",
    "    for val in v:\n",
    "        rx_output[k + '_' + str(val)] = []\n",
    "        tx_output[k + '_' + str(val)] = []\n",
    "        for item, value in loop_files.items():\n",
    "            if value[k] == val: \n",
    "                rx_output[k + '_' + str(val)].append(value['rx_avg'])\n",
    "                tx_output[k + '_' + str(val)].append(value['tx_avg'])\n",
    "            \n",
    "print(tx_output)"
   ]
  },
  {
   "cell_type": "code",
   "execution_count": 53,
   "id": "1cbba15c",
   "metadata": {},
   "outputs": [
    {
     "data": {
      "text/plain": [
       "<matplotlib.legend.Legend at 0x7efe10944208>"
      ]
     },
     "execution_count": 53,
     "metadata": {},
     "output_type": "execute_result"
    },
    {
     "data": {
      "image/png": "[encoded data removed]",
      "text/plain": [
       "<Figure size 640x480 with 1 Axes>"
      ]
     },
     "metadata": {},
     "output_type": "display_data"
    },
    {
     "data": {
      "image/png": "[encoded data removed]",
      "text/plain": [
       "<Figure size 640x480 with 1 Axes>"
      ]
     },
     "metadata": {},
     "output_type": "display_data"
    }
   ],
   "source": [
    "%matplotlib inline\n",
    "\n",
    "# values are configured in Mbit/s -> convert them to mpps\n",
    "def convert(liste, pkt_size):\n",
    "    newlist = []\n",
    "    for i in liste:\n",
    "        newlist.append(((i * 1000000) / ((pkt_size+4) * 8))/1000000)\n",
    "    return newlist\n",
    "\n",
    "import matplotlib.pyplot as plt\n",
    "plt.style.use('seaborn-whitegrid')\n",
    "import numpy as np\n",
    "\n",
    "fig = plt.figure()\n",
    "ax = plt.axes()\n",
    "\n",
    "#print(tx_output[\"pkt_sizes_64\"])\n",
    "#print(list_loop_vars[\"rates\"])\n",
    "\n",
    "plt.title(\"64-byte packets\")\n",
    "plt.xlabel(\"Configured Rate [Mpps]\")\n",
    "plt.ylabel(\"Forward Rate [Mpps]\")\n",
    "plt.plot(convert(list_loop_vars[\"rates\"], 64), tx_output[\"pkt_sizes_64\"], label=\"TX\")\n",
    "plt.plot(convert(list_loop_vars[\"rates\"], 64), rx_output[\"pkt_sizes_64\"], label=\"RX\")\n",
    "plt.xticks(np.arange(0, 21, 2))\n",
    "plt.yticks(np.arange(0, 11, 2))\n",
    "plt.legend()\n",
    "\n",
    "\n",
    "fig = plt.figure()\n",
    "ax = plt.axes()\n",
    "\n",
    "#print(tx_output[\"pkt_sizes_64\"])\n",
    "#print(list_loop_vars[\"rates\"])\n",
    "\n",
    "plt.title(\"1500-byte packets\")\n",
    "plt.xlabel(\"Configured Rate [Mpps]\")\n",
    "plt.ylabel(\"Forward Rate [Mpps]\")\n",
    "\n",
    "plt.plot(convert(list_loop_vars[\"rates\"], 1500), tx_output[\"pkt_sizes_1500\"], label=\"TX\")\n",
    "plt.plot(convert(list_loop_vars[\"rates\"], 1500), rx_output[\"pkt_sizes_1500\"], label=\"RX\")\n",
    "plt.xticks(np.arange(0, 1, .1))\n",
    "plt.yticks(np.arange(0, 1, .1))\n",
    "plt.legend()"
   ]
  }
 ],
 "metadata": {
  "kernelspec": {
   "display_name": "Python 3 (ipykernel)",
   "language": "python",
   "name": "python3"
  },
  "language_info": {
   "codemirror_mode": {
    "name": "ipython",
    "version": 3
   },
   "file_extension": ".py",
   "mimetype": "text/x-python",
   "name": "python",
   "nbconvert_exporter": "python",
   "pygments_lexer": "ipython3",
   "version": "3.7.3"
  }
 },
 "nbformat": 4,
 "nbformat_minor": 5
}
